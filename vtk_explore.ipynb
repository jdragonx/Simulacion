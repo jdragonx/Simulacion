{
 "cells": [
  {
   "cell_type": "code",
   "execution_count": 1,
   "id": "bf2a133a",
   "metadata": {},
   "outputs": [],
   "source": [
    "import vtk"
   ]
  },
  {
   "cell_type": "code",
   "execution_count": 3,
   "id": "1089a7ca",
   "metadata": {},
   "outputs": [],
   "source": [
    "vtk.vtkAppl"
   ]
  },
  {
   "cell_type": "code",
   "execution_count": 9,
   "id": "532debb4",
   "metadata": {},
   "outputs": [],
   "source": [
    "#!/usr/bin/env python\n",
    "\n",
    "import vtk\n",
    "\n",
    "class PlatonicSolids():\n",
    "    \n",
    "    def PlatonicSolids(self):\n",
    "\n",
    "        # Each face has a different cell scalar\n",
    "        # So create a lookup table with a different colour\n",
    "        # for each face.\n",
    "        lut = vtk.vtkLookupTable()\n",
    "        lut.SetNumberOfTableValues(20)\n",
    "        lut.SetTableRange(0.0, 19.0)\n",
    "        lut.Build()\n",
    "        for i in range(20):\n",
    "            lut.SetTableValue(i, 0, 0, 0)\n",
    "                \n",
    "        PlatonicSolids = list()\n",
    "        # There are five Platonic solids.\n",
    "        PlatonicSolids.append(vtk.vtkPlatonicSolidSource())\n",
    "        PlatonicSolids.append(vtk.vtkPlatonicSolidSource())\n",
    "        PlatonicSolids.append(vtk.vtkPlatonicSolidSource())\n",
    "        PlatonicSolids.append(vtk.vtkPlatonicSolidSource())\n",
    "        PlatonicSolids.append(vtk.vtkPlatonicSolidSource())\n",
    "        # Specify the Platonic Solid to create.\n",
    "        for idx, item in enumerate(PlatonicSolids):\n",
    "            PlatonicSolids[idx].SetSolidType(idx)\n",
    "            names = [\"Tetrahedron\",\"Cube\",\"Octahedron\",\"Icosahedron\", \"Dodecahedron\"]\n",
    "        \n",
    "        renderers = list()\n",
    "        mappers = list()\n",
    "        actors = list()\n",
    "        textmappers = list()\n",
    "        textactors = list()\n",
    "        \n",
    "        # Create a common text property.\n",
    "        textProperty = vtk.vtkTextProperty()\n",
    "        textProperty.SetFontSize(10)\n",
    "        textProperty.SetJustificationToCentered()\n",
    "        \n",
    "        # Create a parametric function source, renderer, mapper \n",
    "        # and actor for each object.\n",
    "        for idx, item in enumerate(PlatonicSolids):\n",
    "            PlatonicSolids[idx].Update()\n",
    "            \n",
    "            mappers.append(vtk.vtkPolyDataMapper())\n",
    "            mappers[idx].SetInputConnection(PlatonicSolids[idx].GetOutputPort())\n",
    "            mappers[idx].SetLookupTable(lut)\n",
    "            mappers[idx].SetScalarRange(0, 20)\n",
    "            \n",
    "            actors.append(vtk.vtkActor())\n",
    "            actors[idx].SetMapper(mappers[idx])\n",
    "            \n",
    "            textmappers.append(vtk.vtkTextMapper())\n",
    "            textmappers[idx].SetInput(names[idx])\n",
    "            textmappers[idx].SetTextProperty(textProperty)\n",
    "            \n",
    "            textactors.append(vtk.vtkActor2D())\n",
    "            textactors[idx].SetMapper(textmappers[idx])\n",
    "            textactors[idx].SetPosition(120, 16)\n",
    "            \n",
    "            renderers.append(vtk.vtkRenderer())\n",
    "            \n",
    "        rowDimensions = 3\n",
    "        colDimensions = 2\n",
    "        \n",
    "        for idx in range(rowDimensions * colDimensions):\n",
    "            if idx >= len(PlatonicSolids):\n",
    "                renderers.append(vtk.vtkRenderer)\n",
    "        \n",
    "        rendererSize = 300\n",
    "        \n",
    "        # Create the RenderWindow\n",
    "        #\n",
    "        renderWindow = vtk.vtkRenderWindow()\n",
    "        #renderWindow.SetSize(rendererSize * rowDimensions / colDimensions, rendererSize * colDimensions )\n",
    "        \n",
    "        # Add and position the renders to the render window.\n",
    "        viewport = list()\n",
    "        idx = -1\n",
    "        for row in range(rowDimensions):\n",
    "            for col in range(colDimensions):\n",
    "                idx += 1\n",
    "                viewport[:] = []\n",
    "                viewport.append(float(col) * rendererSize / (colDimensions * rendererSize))\n",
    "                viewport.append(float(rowDimensions - (row+1)) * rendererSize / (rowDimensions * rendererSize))\n",
    "                viewport.append(float(col+1)*rendererSize / (colDimensions * rendererSize))\n",
    "                viewport.append(float(rowDimensions - row) * rendererSize / (rowDimensions * rendererSize))\n",
    "                                \n",
    "                if idx > (len(PlatonicSolids) - 1):\n",
    "                    continue\n",
    "\n",
    "                renderers[idx].SetViewport(viewport)\n",
    "                renderWindow.AddRenderer(renderers[idx])\n",
    "                \n",
    "                renderers[idx].AddActor(actors[idx])\n",
    "                renderers[idx].AddActor(textactors[idx])\n",
    "                renderers[idx].SetBackground(0.4,0.3,0.2)\n",
    "        \n",
    "        interactor = vtk.vtkRenderWindowInteractor()\n",
    "        interactor.SetRenderWindow(renderWindow)\n",
    "        \n",
    "        renderWindow.Render()\n",
    "\n",
    "        interactor.Start()\n",
    "    \n",
    "if __name__ == \"__main__\":\n",
    "    po = PlatonicSolids()\n",
    "    po.PlatonicSolids()"
   ]
  },
  {
   "cell_type": "code",
   "execution_count": 13,
   "id": "9763cd65",
   "metadata": {},
   "outputs": [
    {
     "data": {
      "text/plain": [
       "0.8"
      ]
     },
     "execution_count": 13,
     "metadata": {},
     "output_type": "execute_result"
    }
   ],
   "source": [
    "import numpy as np\n"
   ]
  },
  {
   "cell_type": "code",
   "execution_count": 11,
   "id": "df34b212",
   "metadata": {},
   "outputs": [],
   "source": [
    "#!/usr/bin/env python\n",
    "# -*- coding: utf-8 -*-\n",
    "lut = vtk.vtkLookupTable()\n",
    "lut.SetNumberOfTableValues(20)\n",
    "lut.SetTableRange(0.0, 19.0)\n",
    "lut.Build()\n",
    "for i in range(20):\n",
    "    lut.SetTableValue(i, 0.5, 0, 0)\n",
    "colors = vtk.vtkNamedColors()\n",
    "\n",
    "ico = vtk.vtkPlatonicSolidSource()\n",
    "ico.SetSolidTypeToIcosahedron()\n",
    "\n",
    "color = vtk.vtkApplyColors()\n",
    "color.SetInputConnection(ico.GetOutputPort())\n",
    "\n",
    "# Visualize\n",
    "mapper = vtk.vtkPolyDataMapper()\n",
    "mapper.SetInputConnection(color.GetOutputPort())\n",
    "mapper.SetLookupTable(lut)\n",
    "\n",
    "actor = vtk.vtkActor()\n",
    "actor.SetMapper(mapper)\n",
    "actor.SetPosition(1,0,1)\n",
    "\n",
    "renderer = vtk.vtkRenderer()\n",
    "renderWindow = vtk.vtkRenderWindow()\n",
    "renderWindow.SetWindowName('Dodecahedron')\n",
    "renderWindow.AddRenderer(renderer)\n",
    "renderWindowInteractor = vtk.vtkRenderWindowInteractor()\n",
    "renderWindowInteractor.SetRenderWindow(renderWindow)\n",
    "\n",
    "renderer.AddActor(actor)\n",
    "renderer.SetBackground(colors.GetColor3d('CadetBlue'))\n",
    "renderer.GetActiveCamera().Azimuth(30)\n",
    "renderer.GetActiveCamera().Elevation(30)\n",
    "\n",
    "renderer.ResetCamera()\n",
    "\n",
    "renderWindow.Render()\n",
    "renderWindowInteractor.Start()"
   ]
  },
  {
   "cell_type": "code",
   "execution_count": null,
   "id": "0c2365c0",
   "metadata": {},
   "outputs": [],
   "source": []
  },
  {
   "cell_type": "code",
   "execution_count": null,
   "id": "b2fa22fc",
   "metadata": {},
   "outputs": [],
   "source": [
    "renderer = vtk.vtkRenderer()\n",
    "renderer.Clear?"
   ]
  },
  {
   "cell_type": "code",
   "execution_count": null,
   "id": "956ae051",
   "metadata": {},
   "outputs": [],
   "source": [
    "sphere = vtk.vtkActor()\n",
    "sphere.RotateWXYZ?"
   ]
  },
  {
   "cell_type": "code",
   "execution_count": null,
   "id": "4c8b39d4",
   "metadata": {},
   "outputs": [],
   "source": [
    "points = vtk.vtkPoints()\n",
    "points."
   ]
  },
  {
   "cell_type": "code",
   "execution_count": null,
   "id": "3a2fd554",
   "metadata": {},
   "outputs": [],
   "source": [
    "def callback_func(caller, timer_event):\n",
    "    global time\n",
    "    time+=1\n",
    "    print(time)\n",
    "    renderer.RemoveActor(ray_actor)\n",
    "    actor = figures.ray_actor(Vi[0],[1,2,-1],50,cube.planes)\n",
    "    actor = actor.actor()\n",
    "    renderer.AddActor(actor)\n",
    "    renWin.Render()"
   ]
  }
 ],
 "metadata": {
  "kernelspec": {
   "display_name": "Python 3",
   "language": "python",
   "name": "python3"
  },
  "language_info": {
   "codemirror_mode": {
    "name": "ipython",
    "version": 3
   },
   "file_extension": ".py",
   "mimetype": "text/x-python",
   "name": "python",
   "nbconvert_exporter": "python",
   "pygments_lexer": "ipython3",
   "version": "3.7.6"
  }
 },
 "nbformat": 4,
 "nbformat_minor": 5
}
