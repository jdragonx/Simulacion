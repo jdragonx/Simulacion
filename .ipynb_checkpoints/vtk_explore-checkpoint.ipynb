{
 "cells": [
  {
   "cell_type": "code",
   "execution_count": 2,
   "id": "bf2a133a",
   "metadata": {},
   "outputs": [],
   "source": [
    "import vtk\n",
    "import pandas as pd\n",
    "import figures\n",
    "import math"
   ]
  },
  {
   "cell_type": "code",
   "execution_count": 29,
   "id": "0b6b084a",
   "metadata": {},
   "outputs": [],
   "source": [
    "ico = vtk.vtkPlatonicSolidSource?"
   ]
  },
  {
   "cell_type": "code",
   "execution_count": null,
   "id": "f766fcf8",
   "metadata": {},
   "outputs": [],
   "source": [
    "ico = vtk.vtkPlatonicSolidSource"
   ]
  },
  {
   "cell_type": "code",
   "execution_count": 27,
   "id": "df34b212",
   "metadata": {},
   "outputs": [],
   "source": [
    "#!/usr/bin/env python\n",
    "# -*- coding: utf-8 -*-\n",
    "\n",
    "import vtk\n",
    "\n",
    "\n",
    "def main():\n",
    "    colors = vtk.vtkNamedColors()\n",
    "\n",
    "    ico = vtk.vtkPlatonicSolidSource()\n",
    "    ico.SetSolidTypeToIcosahedron()\n",
    "    \n",
    "    sphere = vtk.vtkSphereSource()\n",
    "    sphere.SetRadius(0.05)\n",
    "\n",
    "    # Visualize\n",
    "    mapper = vtk.vtkPolyDataMapper()\n",
    "    mapper.SetInputConnection(ico.GetOutputPort())\n",
    "\n",
    "    actor = vtk.vtkActor()\n",
    "    actor.SetMapper(mapper)\n",
    "    actor.GetProperty().SetColor(\n",
    "        colors.GetColor3d('Green'))\n",
    "\n",
    "    renderer = vtk.vtkRenderer()\n",
    "    renderWindow = vtk.vtkRenderWindow()\n",
    "    renderWindow.SetWindowName('Dodecahedron')\n",
    "    renderWindow.AddRenderer(renderer)\n",
    "    renderWindowInteractor = vtk.vtkRenderWindowInteractor()\n",
    "    renderWindowInteractor.SetRenderWindow(renderWindow)\n",
    "\n",
    "    renderer.AddActor(actor)\n",
    "    renderer.SetBackground(colors.GetColor3d('CadetBlue'))\n",
    "    renderer.GetActiveCamera().Azimuth(30)\n",
    "    renderer.GetActiveCamera().Elevation(30)\n",
    "\n",
    "    renderer.ResetCamera()\n",
    "\n",
    "    renderWindow.Render()\n",
    "    renderWindowInteractor.Start()\n",
    "\n",
    "\n",
    "def MakeDodecahedron():\n",
    "    aDodecahedron = vtk.vtkPolyhedron()\n",
    "\n",
    "    for i in range(0, 20):\n",
    "        aDodecahedron.GetPointIds().InsertNextId(i)\n",
    "\n",
    "    aDodecahedron.GetPoints().InsertNextPoint(1.21412, 0, 1.58931)\n",
    "    aDodecahedron.GetPoints().InsertNextPoint(0.375185, 1.1547, 1.58931)\n",
    "    aDodecahedron.GetPoints().InsertNextPoint(-0.982247, 0.713644, 1.58931)\n",
    "    aDodecahedron.GetPoints().InsertNextPoint(-0.982247, -0.713644, 1.58931)\n",
    "    aDodecahedron.GetPoints().InsertNextPoint(0.375185, -1.1547, 1.58931)\n",
    "    aDodecahedron.GetPoints().InsertNextPoint(1.96449, 0, 0.375185)\n",
    "    aDodecahedron.GetPoints().InsertNextPoint(0.607062, 1.86835, 0.375185)\n",
    "    aDodecahedron.GetPoints().InsertNextPoint(-1.58931, 1.1547, 0.375185)\n",
    "    aDodecahedron.GetPoints().InsertNextPoint(-1.58931, -1.1547, 0.375185)\n",
    "    aDodecahedron.GetPoints().InsertNextPoint(0.607062, -1.86835, 0.375185)\n",
    "    aDodecahedron.GetPoints().InsertNextPoint(1.58931, 1.1547, -0.375185)\n",
    "    aDodecahedron.GetPoints().InsertNextPoint(-0.607062, 1.86835, -0.375185)\n",
    "    aDodecahedron.GetPoints().InsertNextPoint(-1.96449, 0, -0.375185)\n",
    "    aDodecahedron.GetPoints().InsertNextPoint(-0.607062, -1.86835, -0.375185)\n",
    "    aDodecahedron.GetPoints().InsertNextPoint(1.58931, -1.1547, -0.375185)\n",
    "    aDodecahedron.GetPoints().InsertNextPoint(0.982247, 0.713644, -1.58931)\n",
    "    aDodecahedron.GetPoints().InsertNextPoint(-0.375185, 1.1547, -1.58931)\n",
    "    aDodecahedron.GetPoints().InsertNextPoint(-1.21412, 0, -1.58931)\n",
    "    aDodecahedron.GetPoints().InsertNextPoint(-0.375185, -1.1547, -1.58931)\n",
    "    aDodecahedron.GetPoints().InsertNextPoint(0.982247, -0.713644, -1.58931)\n",
    "\n",
    "    faces = [12,  # number of faces\n",
    "             5, 0, 1, 2, 3, 4,  # number of ids on face, ids\n",
    "             5, 0, 5, 10, 6, 1,\n",
    "             5, 1, 6, 11, 7, 2,\n",
    "             5, 2, 7, 12, 8, 3,\n",
    "             5, 3, 8, 13, 9, 4,\n",
    "             5, 4, 9, 14, 5, 0,\n",
    "             5, 15, 10, 5, 14, 19,\n",
    "             5, 16, 11, 6, 10, 15,\n",
    "             5, 17, 12, 7, 11, 16,\n",
    "             5, 18, 13, 8, 12, 17,\n",
    "             5, 19, 14, 9, 13, 18,\n",
    "             5, 19, 18, 17, 16, 15]\n",
    "\n",
    "    aDodecahedron.SetFaces(faces)\n",
    "    aDodecahedron.Initialize()\n",
    "\n",
    "    return aDodecahedron\n",
    "\n",
    "\n",
    "if __name__ == '__main__':\n",
    "    main()"
   ]
  },
  {
   "cell_type": "code",
   "execution_count": 12,
   "id": "b2fa22fc",
   "metadata": {},
   "outputs": [],
   "source": [
    "renderer = vtk.vtkRenderer()\n",
    "renderer.Clear?"
   ]
  },
  {
   "cell_type": "code",
   "execution_count": 17,
   "id": "956ae051",
   "metadata": {},
   "outputs": [],
   "source": [
    "sphere = vtk.vtkActor()\n",
    "sphere.RotateWXYZ?"
   ]
  },
  {
   "cell_type": "code",
   "execution_count": 194,
   "id": "4c8b39d4",
   "metadata": {},
   "outputs": [],
   "source": [
    "points = vtk.vtkPoints()\n",
    "points."
   ]
  },
  {
   "cell_type": "code",
   "execution_count": 183,
   "id": "3a2fd554",
   "metadata": {},
   "outputs": [],
   "source": [
    "def callback_func(caller, timer_event):\n",
    "    global time\n",
    "    time+=1\n",
    "    print(time)\n",
    "    renderer.RemoveActor(ray_actor)\n",
    "    actor = figures.ray_actor(Vi[0],[1,2,-1],50,cube.planes)\n",
    "    actor = actor.actor()\n",
    "    renderer.AddActor(actor)\n",
    "    renWin.Render()"
   ]
  }
 ],
 "metadata": {
  "kernelspec": {
   "display_name": "Python 3",
   "language": "python",
   "name": "python3"
  },
  "language_info": {
   "codemirror_mode": {
    "name": "ipython",
    "version": 3
   },
   "file_extension": ".py",
   "mimetype": "text/x-python",
   "name": "python",
   "nbconvert_exporter": "python",
   "pygments_lexer": "ipython3",
   "version": "3.7.6"
  }
 },
 "nbformat": 4,
 "nbformat_minor": 5
}
