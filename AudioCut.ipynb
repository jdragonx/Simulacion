{
 "cells": [
  {
   "cell_type": "code",
   "execution_count": 1,
   "id": "e1d89ce4",
   "metadata": {},
   "outputs": [],
   "source": [
    "from pydub import AudioSegment"
   ]
  },
  {
   "cell_type": "code",
   "execution_count": 2,
   "id": "9c490509",
   "metadata": {},
   "outputs": [],
   "source": [
    "AudioSegment.converter = r\"ffmpeg.exe\"\n",
    "AudioSegment.ffmpeg = r\"ffmpeg.exe\"\n",
    "AudioSegment.ffprobe = r\"ffprobe.exe\""
   ]
  },
  {
   "cell_type": "code",
   "execution_count": 3,
   "id": "b9e11d69",
   "metadata": {},
   "outputs": [],
   "source": [
    "from tqdm import tqdm"
   ]
  },
  {
   "cell_type": "code",
   "execution_count": 5,
   "id": "985edbd7",
   "metadata": {},
   "outputs": [],
   "source": [
    "song = AudioSegment.from_file(\"MountainSound.m4a\")"
   ]
  },
  {
   "cell_type": "code",
   "execution_count": 10,
   "id": "85952362",
   "metadata": {},
   "outputs": [
    {
     "name": "stderr",
     "output_type": "stream",
     "text": [
      "100%|█████████████████████████████████████████████████████████████████████████████| 9408/9408 [00:13<00:00, 687.97it/s]\n"
     ]
    }
   ],
   "source": [
    "for i in tqdm(range(0,len(song),22)):\n",
    "    extract = song[i:i+22]\n",
    "    extract.export(\"AudioParts/{}_{}.wav\".format(i,i+22),format='wav')"
   ]
  }
 ],
 "metadata": {
  "kernelspec": {
   "display_name": "Python 3",
   "language": "python",
   "name": "python3"
  },
  "language_info": {
   "codemirror_mode": {
    "name": "ipython",
    "version": 3
   },
   "file_extension": ".py",
   "mimetype": "text/x-python",
   "name": "python",
   "nbconvert_exporter": "python",
   "pygments_lexer": "ipython3",
   "version": "3.7.6"
  }
 },
 "nbformat": 4,
 "nbformat_minor": 5
}
